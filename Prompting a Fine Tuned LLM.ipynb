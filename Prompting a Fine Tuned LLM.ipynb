{
 "cells": [
  {
   "cell_type": "markdown",
   "id": "c47aa346-f1fc-4e89-990b-2303fbb576df",
   "metadata": {},
   "source": [
    "# Install Required Libraries"
   ]
  },
  {
   "cell_type": "code",
   "execution_count": null,
   "id": "4147c6db-0f92-48d1-9f59-00ba14d13795",
   "metadata": {
    "collapsed": true,
    "jupyter": {
     "outputs_hidden": true
    },
    "tags": []
   },
   "outputs": [],
   "source": [
    "!pip install ibm-generative-ai==0.1.15 langchain"
   ]
  },
  {
   "cell_type": "markdown",
   "id": "7a88f3f6-0afb-4674-877d-523f127b3b71",
   "metadata": {},
   "source": [
    "# Import Dependencies"
   ]
  },
  {
   "cell_type": "code",
   "execution_count": 16,
   "id": "6b475af3-9289-4cd6-a744-de5c6d753e76",
   "metadata": {},
   "outputs": [],
   "source": [
    "# Import IBMGen Library \n",
    "from genai.model import Credentials\n",
    "from genai.schemas import GenerateParams, ModelType \n",
    "from genai.extensions.langchain import LangChainInterface\n",
    "# Import langchain prompt templates\n",
    "from langchain.prompts import PromptTemplate"
   ]
  },
  {
   "cell_type": "markdown",
   "id": "ec2380bd-619c-424c-85a1-e37ffe4cc234",
   "metadata": {},
   "source": [
    "# Set Constants and Authenticate"
   ]
  },
  {
   "cell_type": "code",
   "execution_count": 26,
   "id": "e8eda6d6-058c-4061-82a9-58b4bf999f32",
   "metadata": {},
   "outputs": [],
   "source": [
    "# Specify the Fine Tuned Model ID\n",
    "MODEL_ID = 'YOUR MODEL ID' # e.g. 'flan-t5-xl-mpt-qcJVMaQH-2023-07-07-00-05-59'"
   ]
  },
  {
   "cell_type": "code",
   "execution_count": 27,
   "id": "84af0538-55ad-4951-99cd-0d26d0abfc78",
   "metadata": {},
   "outputs": [],
   "source": [
    "# Set your APIKEY\n",
    "APIKEY = 'YOUR API KEY' # e.g. 'pak-4HxlZFu4ZQf_Pp12345ZKhTYXbwV4vwstk6xG7MtUs'\n",
    "# Define credentials \n",
    "creds = Credentials(APIKEY)"
   ]
  },
  {
   "cell_type": "markdown",
   "id": "4234cfcd-53af-4e79-95cf-06185a8f62f5",
   "metadata": {},
   "source": [
    "# Build Chain"
   ]
  },
  {
   "cell_type": "code",
   "execution_count": 28,
   "id": "278ca2be-9725-48a6-80bd-fcbeaf1a079d",
   "metadata": {},
   "outputs": [],
   "source": [
    "params = GenerateParams(decoding_method=\"sample\",\n",
    "                        max_new_tokens=100,\n",
    "                        min_new_tokens=30,\n",
    "                        #stream=False,\n",
    "                        temperature=0.2,\n",
    "                        #top_k=100,\n",
    "                        #top_p=1, \n",
    "                        repetition_penalty=2.0)"
   ]
  },
  {
   "cell_type": "code",
   "execution_count": 29,
   "id": "1458b0c0-cfc9-4302-90cd-8975a6d548fa",
   "metadata": {},
   "outputs": [],
   "source": [
    "llm = LangChainInterface(model=MODEL_ID, params=params, credentials=creds)"
   ]
  },
  {
   "cell_type": "markdown",
   "id": "7e1c05e3-94cd-4a0f-897c-2a79c71a8145",
   "metadata": {},
   "source": [
    "# Prompt Away"
   ]
  },
  {
   "cell_type": "code",
   "execution_count": 30,
   "id": "5ed13e2c-8d2b-4a16-84a7-3841ffec0b7b",
   "metadata": {
    "tags": []
   },
   "outputs": [
    {
     "data": {
      "text/plain": [
       "\"Here are three tips for staying healthy: 1. Eat a balanced diet. 2. Exercise regularly. 3. Get enough sleep. 4. Stay active. 5. Avoid smoking. 6. Don't drink alcohol. 7. Take care of your skin. 8. Drink lots of water. 9. Do yoga or meditation. 10. Try to get at least 30 minutes of exercise every day.\""
      ]
     },
     "execution_count": 30,
     "metadata": {},
     "output_type": "execute_result"
    }
   ],
   "source": [
    "llm('Give three tips for staying healthy.')"
   ]
  },
  {
   "cell_type": "markdown",
   "id": "a256b225-e591-4a63-b9b8-b9c2974bb0a0",
   "metadata": {},
   "source": [
    "# Load the Downloaded Vector"
   ]
  },
  {
   "cell_type": "code",
   "execution_count": null,
   "id": "207aa271-5c59-41dd-91b1-9dd04efd0f6f",
   "metadata": {
    "collapsed": true,
    "jupyter": {
     "outputs_hidden": true
    },
    "tags": []
   },
   "outputs": [],
   "source": [
    "!pip install torch torchvision torchaudio --index-url https://download.pytorch.org/whl/cu117"
   ]
  },
  {
   "cell_type": "code",
   "execution_count": 78,
   "id": "713f1504-4c0f-4912-abee-84718c0353a3",
   "metadata": {},
   "outputs": [],
   "source": [
    "import torch"
   ]
  },
  {
   "cell_type": "code",
   "execution_count": 79,
   "id": "06b0a51a-b553-4d65-a4e2-5e352652831a",
   "metadata": {},
   "outputs": [],
   "source": [
    "model = torch.load(f'{MODEL_ID}-encoder.pt', map_location=torch.device('cpu'))"
   ]
  },
  {
   "cell_type": "code",
   "execution_count": 80,
   "id": "a43dffbe-122d-4ad1-8cf8-90a4a5266545",
   "metadata": {},
   "outputs": [
    {
     "data": {
      "text/plain": [
       "torch.Size([100, 2048])"
      ]
     },
     "execution_count": 80,
     "metadata": {},
     "output_type": "execute_result"
    }
   ],
   "source": [
    "model.shape"
   ]
  },
  {
   "cell_type": "markdown",
   "id": "26fb9463-8192-4262-b8de-5e4b0d201306",
   "metadata": {},
   "source": [
    "# [WIP] Programmatic Call to Download Bin File"
   ]
  },
  {
   "cell_type": "code",
   "execution_count": 86,
   "id": "65a4d493-2ecb-4575-b88c-043f5b7a23cd",
   "metadata": {},
   "outputs": [],
   "source": [
    "import requests\n",
    "\n",
    "url = f\"https://workbench-api.res.ibm.com/v1/tunes/{MODEL_ID}/content/encoder\"\n",
    "\n",
    "payload={}\n",
    "headers = {\n",
    "  'Authorization': f'Bearer {APIKEY}',\n",
    "}\n",
    "\n",
    "response = requests.request(\"GET\", url, headers=headers, data=payload)"
   ]
  },
  {
   "cell_type": "code",
   "execution_count": 85,
   "id": "87c30176-b1dc-4a0b-821b-8f496aaae936",
   "metadata": {},
   "outputs": [],
   "source": [
    "with open('model.bin', 'wb') as f: \n",
    "    f.write(response.content) "
   ]
  }
 ],
 "metadata": {
  "kernelspec": {
   "display_name": "xfine",
   "language": "python",
   "name": "xfine"
  },
  "language_info": {
   "codemirror_mode": {
    "name": "ipython",
    "version": 3
   },
   "file_extension": ".py",
   "mimetype": "text/x-python",
   "name": "python",
   "nbconvert_exporter": "python",
   "pygments_lexer": "ipython3",
   "version": "3.9.12"
  }
 },
 "nbformat": 4,
 "nbformat_minor": 5
}
